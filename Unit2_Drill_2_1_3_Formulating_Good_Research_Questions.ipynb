{
 "cells": [
  {
   "cell_type": "markdown",
   "metadata": {},
   "source": [
    "# Drill: Formulating good research questions"
   ]
  },
  {
   "cell_type": "markdown",
   "metadata": {},
   "source": [
    "Categorize each of following research questions as \"good\" or \"bad\", and provide alternative formulations for the bad ones. Save your reponses in document of some kind, submit a link below, and discuss your reasoning with the mentor."
   ]
  },
  {
   "cell_type": "markdown",
   "metadata": {},
   "source": [
    "### 1. What is the 1994 rate of juvenile delinquency in the U.S.?\n",
    "Good!"
   ]
  },
  {
   "cell_type": "markdown",
   "metadata": {},
   "source": [
    "### 2. What can we do to reduce juvenile deliquency in the U.S.?\n",
    "Bad. We could consider the specific parameters which can reduce juvenile deliquency and include it in the researsh question, e.g.  \"What factor reduce juvenile deliquency in the U.S.?\""
   ]
  },
  {
   "cell_type": "markdown",
   "metadata": {},
   "source": [
    "### 3. Does education play a role in reducing juvenile deliquents' return to crime?\n",
    "\n",
    "Bad. \"Edcuation\" is too broad to be checked whether it affects on juvenile deliquency. We nedd to specify it, e.g. \"Does after-school program play a role in reducing juvenile deliquents' return to crime?\""
   ]
  },
  {
   "cell_type": "markdown",
   "metadata": {},
   "source": [
    "### 4. How many customers does AT&T currently serve in Washington, DC?\n",
    "Good."
   ]
  },
  {
   "cell_type": "markdown",
   "metadata": {},
   "source": [
    "### 5. What factors lead customers to choose AT&T over other service providers?\n",
    "Good."
   ]
  },
  {
   "cell_type": "markdown",
   "metadata": {},
   "source": [
    "### 6. How can AT&T attract more customers?\n",
    "Bad. The clause, \"attract more customers\", is not clear. We can change it to quantitatve question such as \"What factors increase signup of customers in AT&T?"
   ]
  },
  {
   "cell_type": "markdown",
   "metadata": {},
   "source": [
    "### 7. Why did the Challenger Shuttle explode?\n",
    "Bad. The reasons of the explosion could be divided to a series of category. The research question can be modified with one of specific area, e.g. \"Which mechnical parts of the Challenger Shuttle cuase its explosion?\""
   ]
  },
  {
   "cell_type": "markdown",
   "metadata": {},
   "source": [
    "### 8. Which genes are associated with increased risk of breast cancer?\n",
    "Good."
   ]
  },
  {
   "cell_type": "markdown",
   "metadata": {},
   "source": [
    "### 9. Is it better to read to children at night or in the morning?\n",
    "Bad. How can we say \"better\" or not? It is just ambiguous concept. We can modify the question by specifing the outcome, e.g. \"Does children memorize the book which read at night or in the morning?\"\n"
   ]
  },
  {
   "cell_type": "markdown",
   "metadata": {},
   "source": [
    "### 10. How does Google's search algorithm work?\n",
    "Bad. Broad question. We can narrow the question, e.g. \"What factors increase the accuracy of Google's search algorithm?\""
   ]
  },
  {
   "cell_type": "code",
   "execution_count": null,
   "metadata": {
    "collapsed": true
   },
   "outputs": [],
   "source": []
  }
 ],
 "metadata": {
  "kernelspec": {
   "display_name": "Python 3",
   "language": "python",
   "name": "python3"
  },
  "language_info": {
   "codemirror_mode": {
    "name": "ipython",
    "version": 3
   },
   "file_extension": ".py",
   "mimetype": "text/x-python",
   "name": "python",
   "nbconvert_exporter": "python",
   "pygments_lexer": "ipython3",
   "version": "3.6.2"
  }
 },
 "nbformat": 4,
 "nbformat_minor": 2
}
