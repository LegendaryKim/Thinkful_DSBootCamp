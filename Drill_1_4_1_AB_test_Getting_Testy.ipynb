{
 "cells": [
  {
   "cell_type": "markdown",
   "metadata": {},
   "source": [
    "##  A/B tests: Drill: Getting Testy..."
   ]
  },
  {
   "cell_type": "markdown",
   "metadata": {},
   "source": [
    "For each of following questions, outline how you could use an A/B test to find an answer. Besure to identify all five key components of an A/B test we outlined above.\n",
    "\n"
   ]
  },
  {
   "cell_type": "markdown",
   "metadata": {},
   "source": [
    "**1. Doese a new supplement help people sleep better?**\n",
    "\n"
   ]
  },
  {
   "cell_type": "markdown",
   "metadata": {},
   "source": [
    "* Two versions: The control version is a placebo without the supplement. The test version is a pill with the supplement.\n",
    "\n",
    "\n",
    "* Sample: people who participate in the test, we divide them to two group randomly. We need to collect people appeared similar in age, gender, and medical history. \n",
    "\n",
    "\n",
    "* Hypothesis: I expect that the pill with the supplement will increase sleepling rate of people than the placebo.\n",
    "\n",
    "\n",
    "* Outcome: We check EEG of the people group to decide whethere they are sleeping or not.\n",
    "\n",
    "\n",
    "* Other measurement: We can survey on quality of their sleep including frequency of wake during a sleep and their feeling after a sleep. "
   ]
  },
  {
   "cell_type": "markdown",
   "metadata": {},
   "source": [
    "**2. Will new uniforms help a gym's business?**"
   ]
  },
  {
   "cell_type": "markdown",
   "metadata": {},
   "source": [
    "* Two versions: The test version is only allowing to wear gym uniform in the gym (but the unifrom is free), but the conrol version is there is no restriction on costume in the gym. \n",
    "\n",
    "\n",
    "* Sample: We divide people using the gym into two group randomly.\n",
    "\n",
    "\n",
    "* Hypothesis: I expect that new uniforms increase the gym's income.\n",
    "\n",
    "\n",
    "* Outcome: We check the income of gym related to registration fee  and number of people using the day per day.\n",
    "\n",
    "\n",
    "* Other measurement: We check that the registrant's opinion on their costumes.  "
   ]
  },
  {
   "cell_type": "markdown",
   "metadata": {},
   "source": [
    "**3. Will a new homepage improve my online exotic pet rental business?**"
   ]
  },
  {
   "cell_type": "markdown",
   "metadata": {},
   "source": [
    "* Two versions: The control version is using origianl homepage. The test version is using the new hompage. \n",
    "\n",
    "\n",
    "* Sample: A group of people who enter the my homepage's address. We randomly choose a customer and let him/her see the updated hompage or the old one.\n",
    "\n",
    "\n",
    "* Hypothesis: I expect that new home page increase the number of pet rental request.\n",
    "\n",
    "\n",
    "* Outcome: We check the income of the rental business.\n",
    "\n",
    "\n",
    "* Other measurement: We might check how long people spend their time on the site. "
   ]
  },
  {
   "cell_type": "markdown",
   "metadata": {},
   "source": [
    "**4. If I put 'please read' in the email subject will more people read my emails?**\n",
    "\n",
    "* Two versions: The control version is the original email subject. The test version is new subject by adding 'please read'. \n",
    "\n",
    "\n",
    "* Sample: a subset of receivers to my email. \n",
    "\n",
    "\n",
    "* Hypothesis: I expect that the 'please read' in the subject will more people click the email and read it.\n",
    "\n",
    "\n",
    "* Outcome: We check the the reading rate\n",
    "\n",
    "\n",
    "* Other measurement: We might check the proportion of people who reading all the text in the mail."
   ]
  },
  {
   "cell_type": "code",
   "execution_count": null,
   "metadata": {
    "collapsed": true
   },
   "outputs": [],
   "source": []
  }
 ],
 "metadata": {
  "kernelspec": {
   "display_name": "Python 3",
   "language": "python",
   "name": "python3"
  },
  "language_info": {
   "codemirror_mode": {
    "name": "ipython",
    "version": 3
   },
   "file_extension": ".py",
   "mimetype": "text/x-python",
   "name": "python",
   "nbconvert_exporter": "python",
   "pygments_lexer": "ipython3",
   "version": "3.6.2"
  }
 },
 "nbformat": 4,
 "nbformat_minor": 2
}
