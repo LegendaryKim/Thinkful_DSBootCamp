{
 "cells": [
  {
   "cell_type": "markdown",
   "metadata": {},
   "source": [
    "### Drill: Make a quick research proposal"
   ]
  },
  {
   "cell_type": "markdown",
   "metadata": {},
   "source": [
    "**The original experiment:**\n",
    "    \n",
    "When people install the Happy Days Fitness Tracker app, they are asked to \"opt in\" to a data collection scheme where their level of physical activity data is automatically sent to the company for product research purposes. During your interview with the company, they tell you that the app is very effective because after installing the app, the data show that people's activity levels rise steadily."
   ]
  },
  {
   "cell_type": "markdown",
   "metadata": {},
   "source": [
    "**The problem:**\n",
    "\n",
    "Is the Happy Days Fitness Tracker App increase people's activity levels by incresing excercise activity?\n"
   ]
  },
  {
   "cell_type": "markdown",
   "metadata": {},
   "source": [
    "**The hypothesis:**\n",
    "\n",
    "The Happy Days Fitness Tracker App will increase the frequency of excercise done by a person using the app."
   ]
  },
  {
   "cell_type": "markdown",
   "metadata": {},
   "source": [
    "**The method of testing the solution:**\n",
    "\n",
    "This will be a A/B test to check whether the app helps people their excercise acitivity or not. \n",
    "\n",
    "First, we need to collect randomly the sample of people who can represent the population. There should be unbiased in age, gender, income, and activity. By dividng the sample into two group, only the first group will install the Happy Days Fitness Tracker App in their mobile and we will ask them to record their fintness history on the app when they do any excercise. After one month, we will survey their excercise rate per day/week. \n",
    "\n",
    "Next, We should estimate any change of work rate. When we find the frequency of excereice are increased more than two standard deviation, we can conclude the app is efficient. However, if there is less incresement below two standard deviation, we would reject the hypothesis."
   ]
  },
  {
   "cell_type": "code",
   "execution_count": null,
   "metadata": {
    "collapsed": true
   },
   "outputs": [],
   "source": []
  }
 ],
 "metadata": {
  "kernelspec": {
   "display_name": "Python 3",
   "language": "python",
   "name": "python3"
  },
  "language_info": {
   "codemirror_mode": {
    "name": "ipython",
    "version": 3
   },
   "file_extension": ".py",
   "mimetype": "text/x-python",
   "name": "python",
   "nbconvert_exporter": "python",
   "pygments_lexer": "ipython3",
   "version": "3.6.2"
  }
 },
 "nbformat": 4,
 "nbformat_minor": 2
}
