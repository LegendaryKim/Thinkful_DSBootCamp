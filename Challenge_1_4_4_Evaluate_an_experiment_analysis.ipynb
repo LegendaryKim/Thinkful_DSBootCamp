{
 "cells": [
  {
   "cell_type": "markdown",
   "metadata": {},
   "source": [
    "### Challenge Evaluate an experiment analysis"
   ]
  },
  {
   "cell_type": "markdown",
   "metadata": {},
   "source": [
    "Read the following descriptions of an experiment and its analysis, identify the flaws in each, and describe what you would do to correct them."
   ]
  },
  {
   "cell_type": "markdown",
   "metadata": {},
   "source": [
    "**1. The Sith Lords are concerned that their recruiting slogan, \"Give In to Your Anger,\" isn't very effective. Darth Vader develops an alternative slogan, \"Together We Can Rule the Galaxy.\" They compare the slogans on two groups of 50 captured droids each. In one group, Emperor Palpatine delivers the \"Anger\" slogan. In the other, Darth Vader presents the \"Together\" slogan. 20 droids convert to the Dark Side after hearing Palpatine's slogan, while only 5 droids convert after hearing Vader's. The Sith's data scientist concludes that \"Anger\" is a more effective slogan and should continue to be used.**"
   ]
  },
  {
   "cell_type": "markdown",
   "metadata": {},
   "source": [
    "We can find some bias in this experiment. \n",
    "\n",
    "* Selection bias: In this analysis, the Sith Lords only compared the results from two groups of 50 captured droids. The droids are not represent the polpulation, so it is the sampling bias. \n",
    "\n",
    "Therefore, we need to sample interviewees randomly without any bias.\n",
    "\n",
    "\n",
    "* Observer bias: The interviewers are different who are in the two groups, Emperor Palpatine and Darth Vader. The effect of their slogans are dependent on their own accent and speech style, it will affects the reactions of droids. Maybe, it is possible that they would prefer the Emperor.\n",
    "\n",
    "We should find a general interviewer and he has to do two presentation with the different slogans in front of the two groups"
   ]
  },
  {
   "cell_type": "markdown",
   "metadata": {},
   "source": [
    "**2. In the past, the Jedi have had difficulty with public relations. They send two envoys, Jar Jar Binks and Mace Windu, to four friendly and four unfriendly planets respectively, with the goal of promoting favorable feelings toward the Jedi. Upon their return, the envoys learn that Jar Jar was much more effective than Windu: Over 75% of the people surveyed said their attitudes had become more favorable after speaking with Jar Jar, while only 65% said their attitudes had become more favorable after speaking with Windu. This makes Windu angry, because he is sure that he had a better success rate than Jar Jar on every planet. The Jedi choose Jar Jar to be their representative in the future.**"
   ]
  },
  {
   "cell_type": "markdown",
   "metadata": {},
   "source": [
    "Biased!!\n",
    "* Bias in assignment to conditions: The groups are different to each other; the first four planets are friendly, but the last four ones are not. So, the conclusion about the effect of envoys are biased.\n",
    "\n",
    "We need to choose planets for the two envoys randomly to represent all of the galaxy."
   ]
  },
  {
   "cell_type": "markdown",
   "metadata": {},
   "source": [
    "**3. A company with work sites in five different countries has sent you data on employee satisfaction rates for workers in Human Resources and workers in Information Technology. Most HR workers are concentrated in three of the countries, while IT workers are equally distributed across worksites. The company requests a report on satisfaction for each job type. You calculate average job satisfaction for HR and for IT and present the report.**"
   ]
  },
  {
   "cell_type": "markdown",
   "metadata": {},
   "source": [
    "Biased in the experiment design.\n",
    "* Contextual bias: The countries where the HR and IT workers are working are quite different to each other. Therefore, their job satisfaction could be affected by unknown parameters related to the contries. \n",
    "\n",
    "To compare the job satisfaction for HR and for IT, we could underscores the difference between their contries if we just averaging their scores. We should consider the differences between their environments, too."
   ]
  },
  {
   "cell_type": "markdown",
   "metadata": {},
   "source": [
    "**4. When people install the Happy Days Fitness Tracker app, they are asked to \"opt in\" to a data collection scheme where their level of physical activity data is automatically sent to the company for product research purposes. During your interview with the company, they tell you that the app is very effective because after installing the app, the data show that people's activity levels rise steadily.**"
   ]
  },
  {
   "cell_type": "markdown",
   "metadata": {},
   "source": [
    "Is it true that the group sharing their data are unbaised?\n",
    "* Selection bias: The group who sent their data by \"opt in\" are limited to the subset working out with the app. So, the collected data are only coming from the people who do exercise regulary. We could not say the data represent results of the population.\n",
    "\n",
    "We need to check how many people do or do not excercise without the data collection."
   ]
  },
  {
   "cell_type": "markdown",
   "metadata": {},
   "source": [
    "**5. To prevent cheating, a teacher writes three versions of a test. She stacks the three versions together, first all copies of Version A, then all copies of Version B, then all copies of Version C. As students arrive for the exam, each student takes a test. When grading the test, the teacher finds that students who took Version B scored higher than students who took either Version A or Version C. She concludes from this that Version B is easier, and discards it.**"
   ]
  },
  {
   "cell_type": "markdown",
   "metadata": {},
   "source": [
    "Why did not the teacher shuffle the test copies randomly?\n",
    "* Contextual bias: Even though the students are represent the population well, there would be correlation with their entering time to the testing room and grades. It is possible that the group who enter the classroom at first and last and grab Version A or C are outstanding in the test. \n",
    "\n",
    "The versions of the test should be mixed randomly."
   ]
  },
  {
   "cell_type": "code",
   "execution_count": null,
   "metadata": {
    "collapsed": true
   },
   "outputs": [],
   "source": []
  }
 ],
 "metadata": {
  "kernelspec": {
   "display_name": "Python 3",
   "language": "python",
   "name": "python3"
  },
  "language_info": {
   "codemirror_mode": {
    "name": "ipython",
    "version": 3
   },
   "file_extension": ".py",
   "mimetype": "text/x-python",
   "name": "python",
   "nbconvert_exporter": "python",
   "pygments_lexer": "ipython3",
   "version": "3.6.2"
  }
 },
 "nbformat": 4,
 "nbformat_minor": 2
}
