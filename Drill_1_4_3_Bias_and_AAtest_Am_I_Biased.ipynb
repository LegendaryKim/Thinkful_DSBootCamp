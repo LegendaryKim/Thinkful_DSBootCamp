{
 "cells": [
  {
   "cell_type": "markdown",
   "metadata": {},
   "source": [
    "### Drill: Am I Biased?\n",
    "\n",
    "For each of the following scenarios, call out the potential biases in the proposed experiement. Do your best try to discover not only the bias, but the initial design. There is plenty of room for interpretation here, so make sure to state what assumptions you're making."
   ]
  },
  {
   "cell_type": "markdown",
   "metadata": {},
   "source": [
    "**You're testing advertising emails for a bathing suit company and you test one version of the email in February and the other in May.**"
   ]
  },
  {
   "cell_type": "markdown",
   "metadata": {},
   "source": [
    "It is \"Bias in assignment to conditions\". Because two versions of the email sent to each group in different month, their reaction could be biased because of vaction, weather, or etc. So, the two versions should be sent similar time."
   ]
  },
  {
   "cell_type": "markdown",
   "metadata": {},
   "source": [
    "**You open a clinic to treat anxiety and find that the people who visit show a higher rate of anxiety than the general population.**"
   ]
  },
  {
   "cell_type": "markdown",
   "metadata": {},
   "source": [
    "\"Selection bias\". The group visit a clinic cannot represent the population. "
   ]
  },
  {
   "cell_type": "markdown",
   "metadata": {},
   "source": [
    "**You launch a new ad billboard based campaign and see an increase in website visits in the first week.**"
   ]
  },
  {
   "cell_type": "markdown",
   "metadata": {},
   "source": [
    "First, It would be \"Selection bias\". It didn't randomly sample the group making them show the new ad billboard. So, there would be bias in the sampling. Second, \"Bias in assignment to conditions\" would cause wrong conclusion. The control and test version are not in identical time-period. Lastly, there is \"Contextual bias\" because it only did the experiment during the first week. However, the change would be realized after the first week. "
   ]
  },
  {
   "cell_type": "markdown",
   "metadata": {},
   "source": [
    "**You launch a loyalty program but see no change in visits in the first week.**"
   ]
  },
  {
   "cell_type": "markdown",
   "metadata": {},
   "source": [
    "There would be \"Selection bias\", \"Bias in assignment to conditions\", and \"Contextual bias\" similar to the previous case. "
   ]
  },
  {
   "cell_type": "code",
   "execution_count": null,
   "metadata": {
    "collapsed": true
   },
   "outputs": [],
   "source": []
  }
 ],
 "metadata": {
  "kernelspec": {
   "display_name": "Python 3",
   "language": "python",
   "name": "python3"
  },
  "language_info": {
   "codemirror_mode": {
    "name": "ipython",
    "version": 3
   },
   "file_extension": ".py",
   "mimetype": "text/x-python",
   "name": "python",
   "nbconvert_exporter": "python",
   "pygments_lexer": "ipython3",
   "version": "3.6.2"
  }
 },
 "nbformat": 4,
 "nbformat_minor": 2
}
